{
 "cells": [
  {
   "attachments": {},
   "cell_type": "markdown",
   "id": "de1dd0a7",
   "metadata": {},
   "source": [
    "# CS 375 Homework 1: Spam via Regular Expressions\n",
    "\n",
    "The goal of this assignment is to use regular expressions (`RegExes`) to extract phone numbers and email addresses from documents found on the web. \n",
    "\n",
    "This may seem easy at first, as you can write simple `RegExes` to catch typical cases such as `101-867-5309` or `kak5@williams.edu`. However, there are many ways people write their emails in the `HTML` files for their personal websites. Some do this to prevent scrapers from capturing them easily. \n",
    "\n",
    "If you really were a malicious actor, you could then use these extracted addresses to bombard unsuspecting victims with spam! Of course, we would never do anything nefarious like that in `CS 375`. Instead our goal will be to work with raw data and gain some experience with `RegExes`.\n",
    "\n",
    "*Optional but recommended:* Before you begin this assignment, we have provided a tutorial about regular expressions in Python. Open `regular_expressions_tutorial.ipynb` in this same repository to begin. "
   ]
  },
  {
   "attachments": {},
   "cell_type": "markdown",
   "id": "bae6c89e",
   "metadata": {},
   "source": [
    "## Organization and Instructions\n",
    "\n",
    "Execute the code cells in Part 1 to understand the background for this assignment. You will not need to modify or add anything to Part 1. Part 2 is where your solution begins. \n",
    " \n",
    "**Part 1: Background.**\n",
    "* 1A. Environment set-up \n",
    "* 1B. Data exploration \n",
    "* 1C. Evaluation \n",
    "* 1D. Cases to consider \n",
    "\n",
    "**Part 2: Your solution.** This is where you will write `RegExes` to find phone numbers and email addresses by modifying the following two functions: \n",
    "- `find_phone_numbers()`\n",
    "- `find_emails()` \n",
    "\n",
    "**Additional instructions.**\n",
    "- Your submitted solution and code must be yours alone. Copying and pasting a solution from the internet or another source is considered a violation of the honor code. \n",
    "- However, you can talk to classmates about *high-level* approaches. In the **Process Reporting** section, record the names of any classmates you spoke with about this assignment.  \n",
    "\n",
    "**Evaluation.**\n",
    "\n",
    "Just like many real-world NLP systems, your submission will be evaluated on `precision` and `recall`. To review, \n",
    "- We evaluate precision and recall by comparing `true positives (tp)`, `false positives (fp)`, and `false negatives (fn)`. \n",
    "- `precision = tp/(tp+fp)`\n",
    "- `recall = tp/(tp+fn)`\n",
    "\n",
    "You will be evaluated on the \"harmonic mean\" of precision and recall call the `F1-score`\n",
    "- `F1 = 2 * (precision * recall) / (precision + recall)`\n",
    "- Like precision and recall, the range of F1 is [0, 1] with a higher number indicating a better system. \n",
    "\n",
    "**Grading.**\n",
    "\n",
    "- **90 points:** This portion of your grade reflects how well your submission performs on the `development (dev) set`, for which you have all the gold-standard answers. Your grade for this portion is calculated as \n",
    "    ```\n",
    "    (F1 on dev set) * 90 points\n",
    "    ``` \n",
    "- **10 points:** This portion of your grade reflects how well your submission performs on the held-out `test set`. Like real-world NLP systems, a \"good\" system is one that generalizes well \"in the wild.\" We emulate this via a \"test set.\" For the test set, you will not have access to the gold-standard answers. However, unlike real-world NLP systems, we will provide your score on the held-out test set on Gradescope so you can assess your own generalization performance. You can resubmit to Gradescope as many times as you would like. Your final grade will be \n",
    "    ```\n",
    "    (F1 on the test set) * 10 points\n",
    "    ``` \n",
    "    After all student solutions have been submitted and graded, we will release the test set so that you can inspect it and learn from your mistakes.  \n",
    "\n",
    "**Submission.** \n",
    "Once you have completed Parts 1 and 2, run the final cell in this notebook. This will create `submission.zip` which you will then upload to Gradescope. "
   ]
  },
  {
   "cell_type": "markdown",
   "id": "19b0a8f6",
   "metadata": {},
   "source": [
    "## 1A. Environment set-up\n",
    "\n",
    "If you set-up your conda environment correctly in HW0, you should see `Python [conda env:cs375]` as the kernel in the upper right-hand corner of the Juypter webpage you are currently on. Run the cell below to make sure your environment is correctly installed. "
   ]
  },
  {
   "cell_type": "code",
   "execution_count": 1,
   "id": "c474ffd9",
   "metadata": {},
   "outputs": [],
   "source": [
    "# Environment check \n",
    "# Return to HW0 if you run into errors in this cell \n",
    "# Do not modify this cell \n",
    "import os\n",
    "assert os.environ['CONDA_DEFAULT_ENV'] == \"cs375\"\n",
    "\n",
    "import sys\n",
    "assert sys.version_info.major == 3 and sys.version_info.minor == 8"
   ]
  },
  {
   "attachments": {},
   "cell_type": "markdown",
   "id": "d03ed1c5",
   "metadata": {},
   "source": [
    "If there are any errors after running the cell above, return to the instructions from `HW0`. If you are still having difficulty, reach out to the instructor or TAs. "
   ]
  },
  {
   "cell_type": "code",
   "execution_count": 1,
   "id": "16269199",
   "metadata": {},
   "outputs": [],
   "source": [
    "# Import necessary modules for this assignment \n",
    "# Do not modify this cell \n",
    "from io import open\n",
    "import os\n",
    "import re\n",
    "from typing import List\n",
    "\n",
    "from util import * #helper functions for this assignment located in util.py"
   ]
  },
  {
   "attachments": {},
   "cell_type": "markdown",
   "id": "55e9410e",
   "metadata": {},
   "source": [
    "**Note:** In this assignment, you are **NOT** allowed to import or use any other packages outside the Python standard and the ones we imported above.\n",
    "\n",
    "Although we provide `numpy, scikit-learn` and other packages in the `conda` environment we set-up for you, you will not need them in this assignemnt and importing them into your solution will cause it to fail the autograder. "
   ]
  },
  {
   "attachments": {},
   "cell_type": "markdown",
   "id": "fe4bff9e",
   "metadata": {},
   "source": [
    "## 1B. Data exploration \n",
    "Let's start by taking a look at what our data actually looks like. This should always be one of your first steps whenever you are solving a problem that requires working with data.\n",
    "\n",
    "**Development set.** We provide a `development (dev) set` which you are allowed to examine and tune your approach on. Using a dev set to evaluate your methods is an extremely common approach in Natural Language Processing and Machine Learning. More generally, coming up with a robust set of test cases is an extremely important part of writing good code.\n",
    "\n",
    "Our dev set consists of many personal webpages (in `HTML`) from computer science professors at Williams and Stanford that we have scraped and downloaded for you. \n",
    "\n",
    "**Manual inspection.** To manually inspect a file in the dev set, for example, `data/dev/albrecht.html`, right-click on the file and click `open with-> Browser` where `Browser` is your web browser of choice such as Firefox or Chrome. Look for email addresses and phone numbers in this file. What type of regular expressions would you need to catch these? "
   ]
  },
  {
   "cell_type": "code",
   "execution_count": null,
   "id": "a63529fd",
   "metadata": {},
   "outputs": [],
   "source": [
    "# After manual inspection, use code to open and read a HTML file from the dev set as a string\n",
    "with open(\"data/dev/albrecht.html\", 'r', encoding='ISO-8859-1') as file:\n",
    "    full_text = file.read()\n",
    "    print(full_text)"
   ]
  },
  {
   "cell_type": "markdown",
   "id": "e0bef8b3",
   "metadata": {},
   "source": [
    "## 1C. Evaluation \n",
    "\n",
    "Empirical evaluation is a crucial step for any NLP project. For this assignment, `data/devGold` is a file that is the \"answer key\" of the gold-standard extracted emails and phone numbers for every corresponding HTML document in `data/dev`. "
   ]
  },
  {
   "attachments": {},
   "cell_type": "markdown",
   "id": "2d352bc4",
   "metadata": {},
   "source": [
    "### Comparing against the gold-standard\n",
    "\n",
    "Each line in the `data/devGOLD` file represents one gold-standard extracted email address or phone number in the form of a 3-tuple. Each tuple is represented as 3 strings separated by vertical bars (\"|\"). You can open the `data/devGOLD` file and examine for yourself. \n",
    "\n",
    "As an example, the gold-standard for `data/dev/albrecht.html` is \n",
    "```\n",
    "albrecht|e|jeannie@cs.williams.edu\n",
    "albrecht|p|413-597-4251\n",
    "```\n",
    "This takes the following three-part format:\n",
    "1. The first string is the name of the file that the match came from with the `.html` extension removed. \n",
    "2. The second string is an `e` for email or `p` for phone number. \n",
    "3. The third string is the extracted email address or phone number in their cannonical forms respectively \n",
    "    ```\n",
    "    user@email.com\n",
    "    123-456-7890\n",
    "    ```\n",
    "    \n",
    "The solutions you write in Part 2 will return tuples in this form to compare against `devGOLD` using the `score()` function from `util.py`. This function will count the number of true positivies, false positives, and false negatives your solution found and calculate the F1, precision, and recall metrics from them.  \n",
    "\n",
    "The output of this `score()` will look something like\n",
    "```\n",
    "Summary score: \n",
    "F1 = 0.6696035242290749\n",
    "Precision = 0.7450980392156863\n",
    "Recall = 0.608\n",
    "N=102, True positives=76, False positives=26, False negatives=49\n",
    "==================================================\n",
    "Guesses (N=102): \n",
    "False Positives (26): \n",
    "{('balaji', 'e', 'blah@email.edu'),\n",
    " ('cheriton', 'e', 'blah@email.edu'),\n",
    " ('dabo', 'e', 'blah@email.edu'),\n",
    " ('engler', 'e', 'blah@email.edu'),\n",
    " ('eroberts', 'e', 'blah@email.edu'),\n",
    " ('fedkiw', 'e', 'blah@email.edu'),\n",
    " ...\n",
    " False Negatives (49): \n",
    "{('albrecht', 'e', 'jeannie@cs.williams.edu'),\n",
    " ('ashishg', 'e', 'ashishg@stanford.edu'),\n",
    " ('ashishg', 'e', 'rozm@stanford.edu'),\n",
    " ('balaji', 'e', 'balaji@stanford.edu'),\n",
    " ('cheriton', 'e', 'cheriton@cs.stanford.edu'),\n",
    " ('cheriton', 'e', 'uma@cs.stanford.edu'),\n",
    " ('dabo', 'e', 'dabo@cs.stanford.edu'),\n",
    " ('dlwh', 'e', 'dlwh@stanford.edu'),\n",
    " ('engler', 'e', 'engler@lcs.mit.edu'),\n",
    " ('engler', 'e', 'engler@stanford.edu'),\n",
    " ...\n",
    "```\n",
    "\n",
    "Your goal, then, is to reduce the number of false positives and false negatives to 0. "
   ]
  },
  {
   "cell_type": "markdown",
   "id": "939d0b88",
   "metadata": {},
   "source": [
    "## 1D. Cases to Consider"
   ]
  },
  {
   "cell_type": "markdown",
   "id": "6df71530",
   "metadata": {},
   "source": [
    "**Extracting phone numbers.** Your program should be able to process text that looks like the examples shown on the left, and extract the phone number on the right. Note that we want the result in a standardized form.\n",
    "\n",
    "```\n",
    "# Various formats\n",
    "Phone:  (650) 723-0293 =>  650-723-0293\n",
    "Tel (+1): 650-723-0293 =>  650-723-0293\n",
    "\n",
    "# HTML Markup\n",
    "<a href=\"contact.html\">TEL</a> +1&thinsp;650&thinsp;723&thinsp;0293 => 650-723-0293\n",
    "```\n",
    "\n",
    "Tips: \n",
    "- The previous line shows an example people use to make hide their phone numbers using `HTML` markup. You are required to cover such cases.\n",
    "- You can assume we are only working with North American phone numbers, so all numbers will be of the form: `[3 digit area code]-[3 digits]-[4 digits]`.\n",
    "- Your solution may also extract fax numbers, which look exactly like phone numbers. This is fine, you are not expected to distinguish between the two."
   ]
  },
  {
   "attachments": {},
   "cell_type": "markdown",
   "id": "e15b17aa",
   "metadata": {},
   "source": [
    "**Extracting email addresses.** Similar to phone numbers, we are also interested in processing text containing (possibly obfuscated) email addresses and returning the corresponding email addresses in a standard form.\n",
    "\n",
    "```\n",
    "# Ordinary email addresses\n",
    "manning@cs.stanford.edu => manning@cs.stanford.edu\n",
    "\n",
    "# Hidden email addresses\n",
    "engler WHERE stanford DOT edu => engler@stanford.edu\n",
    "manning(at)cs.stanford.edu => manning@cs.stanford.edu\n",
    "manning at csli dot stanford dot edu => manning@csli.stanford.edu\n",
    "```\n",
    "\n",
    "Tips: \n",
    "- Notice the different ways people write the `@` sign. Can you identify a few?\n",
    "- What about the alternative ways of writing `.` in emails? Make sure to account for different cases (lowercase, uppercase, mixed).\n",
    "- What are some popular top level domain names? To get full credit on the assignment, it is sufficient to consider `com, gov, org, edu, info`. Remember to account for cases. \n",
    "- Are there other ways people write their emails in plain english? What are some of the common ones?"
   ]
  },
  {
   "cell_type": "markdown",
   "id": "ae0c9d5c",
   "metadata": {},
   "source": [
    "**Cases not to worry about.** Although you should aim to make your regexes as powerful and general-purpose as you possibly can, there are some cases that are difficult or impossible to handle with regexes and which we don't expect you to deal with and do not include in the test set. These include:\n",
    "- Anything involving images or other non-text ways of displaying emails or phone numbers.\n",
    "- Examples that require parsing names into parts, like: `\"first name\"@williams.edu`\n",
    "- Particularly clever/difficult examples that don't contain much or any part of the actual email address. For example, `To send me email, try the simplest address that makes sense.`"
   ]
  },
  {
   "attachments": {},
   "cell_type": "markdown",
   "id": "6bcd819b",
   "metadata": {},
   "source": [
    "## 2. Your approach \n",
    "\n",
    "Your task is to successfuly modify the functions `find_emails()` and `find_phone_numbers()` given below.\n",
    "\n",
    "*Tips:*\n",
    "- If you are having difficulty getting started, try returning to `regular_expressions_tutorial.ipynb`. Create new cells and generate some toy test cases for yourself that you can use to practice regular expressions. For example, how would you match a cannonical form of email like `kak5@williams.edu`? \n",
    "- *Hint:* Capture groups may be helpful in your solution. \n",
    "- If you are still struggling, start with the simplest regular expression you can think of then iteratively expand the solution based on the errors it makes. "
   ]
  },
  {
   "cell_type": "code",
   "execution_count": null,
   "id": "f6e0c724",
   "metadata": {},
   "outputs": [],
   "source": [
    "# TODO: Implement your approach here!\n",
    "def find_phone_numbers(full_text: str) -> List[str]:\n",
    "    \"\"\"\n",
    "    This function inputs a line from an html document as a string\n",
    "    and extracts the phone numbers in it. \n",
    "    \n",
    "    Returns the found numbers in a list of strings. The returned\n",
    "    numbers must follow the canonical format, where # represent digits:\n",
    "\n",
    "              '###-###-#####'\n",
    "\n",
    "    NOTE: DO NOT CHANGE this function's name or parameters, as they will be called \n",
    "    directly by the submission and autograder scripts.\n",
    "\n",
    "    full_text (str): Full text of the html file read.\n",
    "    \"\"\"\n",
    "    # CODE START\n",
    "    return []\n",
    "    # CODE END"
   ]
  },
  {
   "cell_type": "code",
   "execution_count": null,
   "id": "47fc6e76",
   "metadata": {},
   "outputs": [],
   "source": [
    "# TODO: Implement your approach here!\n",
    "def find_emails(full_text: str) -> List[str]:\n",
    "    \"\"\"\n",
    "    This function inputs a line from an html document as a string \n",
    "    and finds the emails in it. \n",
    "    \n",
    "    Returns the found emails in a list of strings. The returned email\n",
    "    must follow the canonical format:\n",
    "\n",
    "              'someone@something.com'\n",
    "\n",
    "    NOTE: DO NOT CHANGE this function's name or parameters, as they will be called \n",
    "    directly by the submission and autograder scripts.\n",
    "\n",
    "    full_text (str): Full text of the html file read.\n",
    "    \"\"\"\n",
    "    # CODE START\n",
    "    return []\n",
    "    # CODE END"
   ]
  },
  {
   "cell_type": "markdown",
   "id": "b9920584",
   "metadata": {},
   "source": [
    "The function below is a helper function that you do not need to modify."
   ]
  },
  {
   "cell_type": "code",
   "execution_count": null,
   "id": "7f4a947f",
   "metadata": {},
   "outputs": [],
   "source": [
    "# DO NOT MODIFY THE FUNCTION BELOW \n",
    "def process_file(filename: str, data_directory: str):\n",
    "    \"\"\"\n",
    "    This helper function calls the functions listed below on each line of a file \n",
    "    with the given filename. \n",
    "    \n",
    "    * find_emails()\n",
    "    * find_phone_numbers functions \n",
    "    \n",
    "    Returns a list of 3-tuples representinting the \n",
    "    found matches in the specified evaluation format.\n",
    "    \"\"\"\n",
    "    # DO NOT CHANGE\n",
    "    filename_no_ext, ext = filename.split('.')\n",
    "    absolute_file_path = os.path.join(data_directory, filename)\n",
    "    res = []\n",
    "    with open(absolute_file_path, 'r', encoding='ISO-8859-1') as file:\n",
    "        # Read the full text\n",
    "        full_text = file.read()\n",
    "        \n",
    "        # Call find_emails\n",
    "        emails = [(filename_no_ext, 'e', e) for e in find_emails(full_text)]\n",
    "        \n",
    "        # Call find_phone_numbers\n",
    "        phone_numbers = [(filename_no_ext, 'p', p) for p in find_phone_numbers(full_text)]\n",
    "        \n",
    "        # Add the newly extracted emails and phone numbers to our list\n",
    "        res += emails + phone_numbers\n",
    "\n",
    "    return res"
   ]
  },
  {
   "cell_type": "code",
   "execution_count": null,
   "id": "4c72086f",
   "metadata": {},
   "outputs": [],
   "source": [
    "# NO NEED TO MODIFY THE CODE BELOW \n",
    "# This runs your implemented functions on the entirety of the dev set \n",
    "# Use the output to compare your found matches to the gold-standard\n",
    "guess_list = process_dir('data/dev', process_file)\n",
    "gold_list = get_gold('data/devGOLD')\n",
    "score(guess_list, gold_list)"
   ]
  },
  {
   "cell_type": "code",
   "execution_count": null,
   "id": "56a1bc0f",
   "metadata": {},
   "outputs": [],
   "source": [
    "# From the output above, select a file that is giving you issues \n",
    "# Inspect this file manually and make improvements to your function \n",
    "selected_file = 'dabo.html' # Change the file name \n",
    "result = process_file(selected_file, 'data/dev')\n",
    "print(result)"
   ]
  },
  {
   "attachments": {},
   "cell_type": "markdown",
   "id": "b4234d21",
   "metadata": {},
   "source": [
    "## Process reporting \n"
   ]
  },
  {
   "attachments": {},
   "cell_type": "markdown",
   "id": "12aff742",
   "metadata": {},
   "source": [
    "Please record your answers to the questions below by writing directly in this Markdown cell.\n",
    "\n",
    "<span style=\"color:blue\">If you talked with any of your classmates on this assignment please list their names here:</span>\n",
    "\n",
    "DELETE AND PUT YOUR ANSWER HERE. \n",
    "\n",
    "\n",
    "<span style=\"color:blue\">Approximately how much time did you spend on this assignment:</span> \n",
    "\n",
    "DELETE AND PUT YOUR ANSWER HERE. \n",
    "\n"
   ]
  },
  {
   "attachments": {},
   "cell_type": "markdown",
   "id": "d86feefc",
   "metadata": {},
   "source": [
    "## Submission\n",
    "\n",
    "Once you're satsified with your solution, save this file and run the cell below to automatically zip your file. This will produce `submission.zip` in the same folder as this file (same folder as `hw1.ipynb`). \n",
    "\n",
    "Submit `submission.zip` to Gradescope. \n",
    "\n",
    "*Note:* This script assumes that you have the `zip` utility installed. If the cell below does not work you may need to install it locally. "
   ]
  },
  {
   "cell_type": "code",
   "execution_count": null,
   "id": "84214898",
   "metadata": {},
   "outputs": [],
   "source": [
    "%%bash\n",
    "\n",
    "if [[ ! -f \"./hw1.ipynb\" ]]\n",
    "then\n",
    "    echo \"WARNING: Did not find notebook in Jupyter working directory. Manual solution: go to File->Download .ipynb to download your notebok and other files, then zip them locally.\"\n",
    "else\n",
    "    echo \"Found notebook file, creating submission zip...\"\n",
    "    zip -r submission.zip hw1.ipynb\n",
    "fi"
   ]
  }
 ],
 "metadata": {
  "kernelspec": {
   "display_name": "Python 3",
   "language": "python",
   "name": "python3"
  },
  "language_info": {
   "codemirror_mode": {
    "name": "ipython",
    "version": 3
   },
   "file_extension": ".py",
   "mimetype": "text/x-python",
   "name": "python",
   "nbconvert_exporter": "python",
   "pygments_lexer": "ipython3",
   "version": "3.8.9"
  },
  "vscode": {
   "interpreter": {
    "hash": "31f2aee4e71d21fbe5cf8b01ff0e069b9275f58929596ceb00d14d90e3e16cd6"
   }
  }
 },
 "nbformat": 4,
 "nbformat_minor": 5
}
